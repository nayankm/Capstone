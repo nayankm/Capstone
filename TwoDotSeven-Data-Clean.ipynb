{
 "cells": [
  {
   "cell_type": "markdown",
   "id": "c0890ad1",
   "metadata": {},
   "source": [
    "# Import Python Libraries"
   ]
  },
  {
   "cell_type": "code",
   "execution_count": 44,
   "id": "0263c265",
   "metadata": {},
   "outputs": [],
   "source": [
    "import pandas as pd\n",
    "import numpy as np\n",
    "import matplotlib.pyplot as plt\n",
    "import seaborn as sns"
   ]
  },
  {
   "cell_type": "markdown",
   "id": "69b5f4f3",
   "metadata": {},
   "source": [
    "# Import two data set \n",
    "### 1. Customer Details as cust and \n",
    "### 2. Card Details as card"
   ]
  },
  {
   "cell_type": "code",
   "execution_count": 45,
   "id": "367ec696",
   "metadata": {},
   "outputs": [],
   "source": [
    "cust = pd.read_csv(\"C:\\Technology\\\\HeroVired\\\\Capston\\\\Customer Details.csv\", encoding='ISO-8859-1')\n",
    "\n",
    "card = pd.read_csv(r\"C:\\Technology\\\\HeroVired\\\\Capston\\\\Card Details.csv\", encoding='ISO-8859-1')\n"
   ]
  },
  {
   "cell_type": "markdown",
   "id": "ce4524f4",
   "metadata": {},
   "source": [
    "### Joining two datasets as data. Since both the datasets have distinct columns except CustomerID\n",
    "### Here Concat funtion keys are not used since, both the datasets have same order and number of CustomerIDs"
   ]
  },
  {
   "cell_type": "code",
   "execution_count": 47,
   "id": "7176b700",
   "metadata": {},
   "outputs": [
    {
     "data": {
      "text/html": [
       "<div>\n",
       "<style scoped>\n",
       "    .dataframe tbody tr th:only-of-type {\n",
       "        vertical-align: middle;\n",
       "    }\n",
       "\n",
       "    .dataframe tbody tr th {\n",
       "        vertical-align: top;\n",
       "    }\n",
       "\n",
       "    .dataframe thead th {\n",
       "        text-align: right;\n",
       "    }\n",
       "</style>\n",
       "<table border=\"1\" class=\"dataframe\">\n",
       "  <thead>\n",
       "    <tr style=\"text-align: right;\">\n",
       "      <th></th>\n",
       "      <th>Name</th>\n",
       "      <th>CustomerID</th>\n",
       "      <th>Age</th>\n",
       "      <th>Marital Status</th>\n",
       "      <th>Gender</th>\n",
       "      <th>Ethnicity</th>\n",
       "      <th>Education</th>\n",
       "      <th>Income</th>\n",
       "      <th>Limit</th>\n",
       "      <th>Rating</th>\n",
       "      <th>Cards</th>\n",
       "      <th>Balance</th>\n",
       "    </tr>\n",
       "  </thead>\n",
       "  <tbody>\n",
       "    <tr>\n",
       "      <th>0</th>\n",
       "      <td>Katherine Bettcher</td>\n",
       "      <td>0002-ORFBO</td>\n",
       "      <td>30</td>\n",
       "      <td>Married</td>\n",
       "      <td>Male</td>\n",
       "      <td>Caucasian</td>\n",
       "      <td>Master</td>\n",
       "      <td>105.038</td>\n",
       "      <td>9142</td>\n",
       "      <td>734</td>\n",
       "      <td>3</td>\n",
       "      <td>232</td>\n",
       "    </tr>\n",
       "    <tr>\n",
       "      <th>1</th>\n",
       "      <td>Alejandro Graham</td>\n",
       "      <td>0002-ORFBOA</td>\n",
       "      <td>71</td>\n",
       "      <td>Married</td>\n",
       "      <td>Male</td>\n",
       "      <td>Asian</td>\n",
       "      <td>Bachelor</td>\n",
       "      <td>69.820</td>\n",
       "      <td>4223</td>\n",
       "      <td>389</td>\n",
       "      <td>1</td>\n",
       "      <td>924</td>\n",
       "    </tr>\n",
       "    <tr>\n",
       "      <th>2</th>\n",
       "      <td>Priscilla Ian</td>\n",
       "      <td>0002-ORFBOC</td>\n",
       "      <td>46</td>\n",
       "      <td>Seperated</td>\n",
       "      <td>Male</td>\n",
       "      <td>African American</td>\n",
       "      <td>Senior Secondary</td>\n",
       "      <td>17.441</td>\n",
       "      <td>2430</td>\n",
       "      <td>253</td>\n",
       "      <td>1</td>\n",
       "      <td>20</td>\n",
       "    </tr>\n",
       "    <tr>\n",
       "      <th>3</th>\n",
       "      <td>Ovella</td>\n",
       "      <td>0002-ORFBOCH</td>\n",
       "      <td>42</td>\n",
       "      <td>Married</td>\n",
       "      <td>Female</td>\n",
       "      <td>Caucasian</td>\n",
       "      <td>Senior Secondary</td>\n",
       "      <td>39.368</td>\n",
       "      <td>3829</td>\n",
       "      <td>248</td>\n",
       "      <td>3</td>\n",
       "      <td>813</td>\n",
       "    </tr>\n",
       "    <tr>\n",
       "      <th>4</th>\n",
       "      <td>Juliann</td>\n",
       "      <td>0002-ORFBOH</td>\n",
       "      <td>30</td>\n",
       "      <td>Married</td>\n",
       "      <td>Male</td>\n",
       "      <td>African American</td>\n",
       "      <td>Doctorate</td>\n",
       "      <td>56.375</td>\n",
       "      <td>2850</td>\n",
       "      <td>258</td>\n",
       "      <td>1</td>\n",
       "      <td>109</td>\n",
       "    </tr>\n",
       "    <tr>\n",
       "      <th>...</th>\n",
       "      <td>...</td>\n",
       "      <td>...</td>\n",
       "      <td>...</td>\n",
       "      <td>...</td>\n",
       "      <td>...</td>\n",
       "      <td>...</td>\n",
       "      <td>...</td>\n",
       "      <td>...</td>\n",
       "      <td>...</td>\n",
       "      <td>...</td>\n",
       "      <td>...</td>\n",
       "      <td>...</td>\n",
       "    </tr>\n",
       "    <tr>\n",
       "      <th>32542</th>\n",
       "      <td>Oletta</td>\n",
       "      <td>9992-UJOELH</td>\n",
       "      <td>34</td>\n",
       "      <td>Unmarried</td>\n",
       "      <td>Male</td>\n",
       "      <td>Caucasian</td>\n",
       "      <td>Bachelor</td>\n",
       "      <td>32.930</td>\n",
       "      <td>4222</td>\n",
       "      <td>308</td>\n",
       "      <td>4</td>\n",
       "      <td>162</td>\n",
       "    </tr>\n",
       "    <tr>\n",
       "      <th>32543</th>\n",
       "      <td>Leesa Hugo</td>\n",
       "      <td>9993-LHIEB</td>\n",
       "      <td>61</td>\n",
       "      <td>Married</td>\n",
       "      <td>Female</td>\n",
       "      <td>Caucasian</td>\n",
       "      <td>Senior High School</td>\n",
       "      <td>12.469</td>\n",
       "      <td>5645</td>\n",
       "      <td>311</td>\n",
       "      <td>2</td>\n",
       "      <td>487</td>\n",
       "    </tr>\n",
       "    <tr>\n",
       "      <th>32544</th>\n",
       "      <td>Oliva</td>\n",
       "      <td>9993-LHIEBH</td>\n",
       "      <td>64</td>\n",
       "      <td>Unmarried</td>\n",
       "      <td>Male</td>\n",
       "      <td>Caucasian</td>\n",
       "      <td>Senior Secondary</td>\n",
       "      <td>64.167</td>\n",
       "      <td>3116</td>\n",
       "      <td>285</td>\n",
       "      <td>3</td>\n",
       "      <td>576</td>\n",
       "    </tr>\n",
       "    <tr>\n",
       "      <th>32545</th>\n",
       "      <td>Hank Hunter</td>\n",
       "      <td>9995-HOTOH</td>\n",
       "      <td>77</td>\n",
       "      <td>Unmarried</td>\n",
       "      <td>Female</td>\n",
       "      <td>Caucasian</td>\n",
       "      <td>Bachelor</td>\n",
       "      <td>20.970</td>\n",
       "      <td>1356</td>\n",
       "      <td>161</td>\n",
       "      <td>2</td>\n",
       "      <td>0</td>\n",
       "    </tr>\n",
       "    <tr>\n",
       "      <th>32546</th>\n",
       "      <td>Orie</td>\n",
       "      <td>9995-HOTOHH</td>\n",
       "      <td>47</td>\n",
       "      <td>Unmarried</td>\n",
       "      <td>Female</td>\n",
       "      <td>Caucasian</td>\n",
       "      <td>Master</td>\n",
       "      <td>35.337</td>\n",
       "      <td>3663</td>\n",
       "      <td>261</td>\n",
       "      <td>5</td>\n",
       "      <td>176</td>\n",
       "    </tr>\n",
       "  </tbody>\n",
       "</table>\n",
       "<p>32547 rows × 12 columns</p>\n",
       "</div>"
      ],
      "text/plain": [
       "                     Name    CustomerID  Age Marital Status  Gender  \\\n",
       "0      Katherine Bettcher    0002-ORFBO   30        Married    Male   \n",
       "1        Alejandro Graham   0002-ORFBOA   71        Married    Male   \n",
       "2           Priscilla Ian   0002-ORFBOC   46      Seperated    Male   \n",
       "3                  Ovella  0002-ORFBOCH   42        Married  Female   \n",
       "4                 Juliann   0002-ORFBOH   30        Married    Male   \n",
       "...                   ...           ...  ...            ...     ...   \n",
       "32542              Oletta   9992-UJOELH   34      Unmarried    Male   \n",
       "32543          Leesa Hugo    9993-LHIEB   61        Married  Female   \n",
       "32544               Oliva   9993-LHIEBH   64      Unmarried    Male   \n",
       "32545         Hank Hunter    9995-HOTOH   77      Unmarried  Female   \n",
       "32546                Orie   9995-HOTOHH   47      Unmarried  Female   \n",
       "\n",
       "              Ethnicity           Education   Income  Limit  Rating  Cards  \\\n",
       "0             Caucasian              Master  105.038   9142     734      3   \n",
       "1                 Asian            Bachelor   69.820   4223     389      1   \n",
       "2      African American    Senior Secondary   17.441   2430     253      1   \n",
       "3             Caucasian    Senior Secondary   39.368   3829     248      3   \n",
       "4      African American           Doctorate   56.375   2850     258      1   \n",
       "...                 ...                 ...      ...    ...     ...    ...   \n",
       "32542         Caucasian            Bachelor   32.930   4222     308      4   \n",
       "32543         Caucasian  Senior High School   12.469   5645     311      2   \n",
       "32544         Caucasian    Senior Secondary   64.167   3116     285      3   \n",
       "32545         Caucasian            Bachelor   20.970   1356     161      2   \n",
       "32546         Caucasian              Master   35.337   3663     261      5   \n",
       "\n",
       "       Balance  \n",
       "0          232  \n",
       "1          924  \n",
       "2           20  \n",
       "3          813  \n",
       "4          109  \n",
       "...        ...  \n",
       "32542      162  \n",
       "32543      487  \n",
       "32544      576  \n",
       "32545        0  \n",
       "32546      176  \n",
       "\n",
       "[32547 rows x 12 columns]"
      ]
     },
     "execution_count": 47,
     "metadata": {},
     "output_type": "execute_result"
    }
   ],
   "source": [
    "data = pd.concat([cust,card[['Income','Limit','Rating','Cards','Balance']]], axis=1)\n",
    "data"
   ]
  },
  {
   "cell_type": "markdown",
   "id": "8dea5fb9",
   "metadata": {},
   "source": [
    "### There is no missing value in dataset"
   ]
  },
  {
   "cell_type": "code",
   "execution_count": 48,
   "id": "6ddebda9",
   "metadata": {},
   "outputs": [
    {
     "data": {
      "text/plain": [
       "Name              0\n",
       "CustomerID        0\n",
       "Age               0\n",
       "Marital Status    0\n",
       "Gender            0\n",
       "Ethnicity         0\n",
       "Education         0\n",
       "Income            0\n",
       "Limit             0\n",
       "Rating            0\n",
       "Cards             0\n",
       "Balance           0\n",
       "dtype: int64"
      ]
     },
     "execution_count": 48,
     "metadata": {},
     "output_type": "execute_result"
    }
   ],
   "source": [
    "data.isna().sum()"
   ]
  },
  {
   "cell_type": "markdown",
   "id": "a6da6067",
   "metadata": {},
   "source": [
    "### No duplicate values"
   ]
  },
  {
   "cell_type": "code",
   "execution_count": 49,
   "id": "2b9f41ae",
   "metadata": {},
   "outputs": [
    {
     "data": {
      "text/html": [
       "<div>\n",
       "<style scoped>\n",
       "    .dataframe tbody tr th:only-of-type {\n",
       "        vertical-align: middle;\n",
       "    }\n",
       "\n",
       "    .dataframe tbody tr th {\n",
       "        vertical-align: top;\n",
       "    }\n",
       "\n",
       "    .dataframe thead th {\n",
       "        text-align: right;\n",
       "    }\n",
       "</style>\n",
       "<table border=\"1\" class=\"dataframe\">\n",
       "  <thead>\n",
       "    <tr style=\"text-align: right;\">\n",
       "      <th></th>\n",
       "      <th>Name</th>\n",
       "      <th>CustomerID</th>\n",
       "      <th>Age</th>\n",
       "      <th>Marital Status</th>\n",
       "      <th>Gender</th>\n",
       "      <th>Ethnicity</th>\n",
       "      <th>Education</th>\n",
       "      <th>Income</th>\n",
       "      <th>Limit</th>\n",
       "      <th>Rating</th>\n",
       "      <th>Cards</th>\n",
       "      <th>Balance</th>\n",
       "    </tr>\n",
       "  </thead>\n",
       "  <tbody>\n",
       "  </tbody>\n",
       "</table>\n",
       "</div>"
      ],
      "text/plain": [
       "Empty DataFrame\n",
       "Columns: [Name, CustomerID, Age, Marital Status, Gender, Ethnicity, Education, Income, Limit, Rating, Cards, Balance]\n",
       "Index: []"
      ]
     },
     "execution_count": 49,
     "metadata": {},
     "output_type": "execute_result"
    }
   ],
   "source": [
    "data[data.duplicated()]"
   ]
  },
  {
   "cell_type": "markdown",
   "id": "55ebff6b",
   "metadata": {},
   "source": [
    "### Dataset data type\n",
    "There are 6 categorical data and 6 numerical data"
   ]
  },
  {
   "cell_type": "code",
   "execution_count": 50,
   "id": "55fc0c8d",
   "metadata": {},
   "outputs": [
    {
     "name": "stdout",
     "output_type": "stream",
     "text": [
      "<class 'pandas.core.frame.DataFrame'>\n",
      "RangeIndex: 32547 entries, 0 to 32546\n",
      "Data columns (total 12 columns):\n",
      " #   Column          Non-Null Count  Dtype  \n",
      "---  ------          --------------  -----  \n",
      " 0   Name            32547 non-null  object \n",
      " 1   CustomerID      32547 non-null  object \n",
      " 2   Age             32547 non-null  int64  \n",
      " 3   Marital Status  32547 non-null  object \n",
      " 4   Gender          32547 non-null  object \n",
      " 5   Ethnicity       32547 non-null  object \n",
      " 6   Education       32547 non-null  object \n",
      " 7   Income          32547 non-null  float64\n",
      " 8   Limit           32547 non-null  int64  \n",
      " 9   Rating          32547 non-null  int64  \n",
      " 10  Cards           32547 non-null  int64  \n",
      " 11  Balance         32547 non-null  int64  \n",
      "dtypes: float64(1), int64(5), object(6)\n",
      "memory usage: 3.0+ MB\n"
     ]
    }
   ],
   "source": [
    "data.info()"
   ]
  },
  {
   "cell_type": "markdown",
   "id": "d3928a81",
   "metadata": {},
   "source": [
    "### Unique value in dataset"
   ]
  },
  {
   "cell_type": "code",
   "execution_count": 52,
   "id": "5399a5d5",
   "metadata": {},
   "outputs": [
    {
     "data": {
      "text/plain": [
       "Name              24942\n",
       "CustomerID        32547\n",
       "Age                  62\n",
       "Marital Status        5\n",
       "Gender                2\n",
       "Ethnicity             3\n",
       "Education             8\n",
       "Income            24384\n",
       "Limit              7443\n",
       "Rating              679\n",
       "Cards                 7\n",
       "Balance            1570\n",
       "dtype: int64"
      ]
     },
     "execution_count": 52,
     "metadata": {},
     "output_type": "execute_result"
    }
   ],
   "source": [
    "data.nunique()"
   ]
  },
  {
   "cell_type": "markdown",
   "id": "1343d565",
   "metadata": {},
   "source": [
    "From the above data only \"Age, Income, Limit, Rating, Balance\" are quantitative continuous variables\n",
    "<br>whereas \"Cards, \" is quantitative Discrete variables\n",
    "<br>From above data CustomerID is removed from mode as there will be no repetative values and all values are unique\n",
    "<br>From the data above \"Marital Status, Gender, Ethnicity\" are qualitative Nominal data\n",
    "<br>where as \"Education\" is qualitative Ordinal data\n",
    "<br>Above observation is done using data description given and finding value_count of the variables"
   ]
  },
  {
   "cell_type": "markdown",
   "id": "788020d6",
   "metadata": {},
   "source": [
    "### Statistic summary of numerical data"
   ]
  },
  {
   "cell_type": "code",
   "execution_count": 69,
   "id": "5fb3ea76",
   "metadata": {},
   "outputs": [
    {
     "data": {
      "text/plain": [
       "array([[<Axes: title={'center': 'Age'}>,\n",
       "        <Axes: title={'center': 'Income'}>,\n",
       "        <Axes: title={'center': 'Limit'}>],\n",
       "       [<Axes: title={'center': 'Rating'}>,\n",
       "        <Axes: title={'center': 'Cards'}>,\n",
       "        <Axes: title={'center': 'Balance'}>],\n",
       "       [<Axes: >, <Axes: >, <Axes: >],\n",
       "       [<Axes: >, <Axes: >, <Axes: >],\n",
       "       [<Axes: >, <Axes: >, <Axes: >],\n",
       "       [<Axes: >, <Axes: >, <Axes: >],\n",
       "       [<Axes: >, <Axes: >, <Axes: >],\n",
       "       [<Axes: >, <Axes: >, <Axes: >],\n",
       "       [<Axes: >, <Axes: >, <Axes: >]], dtype=object)"
      ]
     },
     "execution_count": 69,
     "metadata": {},
     "output_type": "execute_result"
    },
    {
     "data": {
      "image/png": "[encoded data removed]",
      "text/plain": [
       "<Figure size 1500x3000 with 27 Axes>"
      ]
     },
     "metadata": {},
     "output_type": "display_data"
    }
   ],
   "source": [
    "data.hist(figsize=(15,30),layout=(9,3))"
   ]
  },
  {
   "cell_type": "code",
   "execution_count": 51,
   "id": "9e9b7b79",
   "metadata": {},
   "outputs": [
    {
     "data": {
      "text/html": [
       "<div>\n",
       "<style scoped>\n",
       "    .dataframe tbody tr th:only-of-type {\n",
       "        vertical-align: middle;\n",
       "    }\n",
       "\n",
       "    .dataframe tbody tr th {\n",
       "        vertical-align: top;\n",
       "    }\n",
       "\n",
       "    .dataframe thead th {\n",
       "        text-align: right;\n",
       "    }\n",
       "</style>\n",
       "<table border=\"1\" class=\"dataframe\">\n",
       "  <thead>\n",
       "    <tr style=\"text-align: right;\">\n",
       "      <th></th>\n",
       "      <th>count</th>\n",
       "      <th>mean</th>\n",
       "      <th>std</th>\n",
       "      <th>min</th>\n",
       "      <th>25%</th>\n",
       "      <th>50%</th>\n",
       "      <th>75%</th>\n",
       "      <th>max</th>\n",
       "    </tr>\n",
       "  </thead>\n",
       "  <tbody>\n",
       "    <tr>\n",
       "      <th>Age</th>\n",
       "      <td>32547.0</td>\n",
       "      <td>55.48</td>\n",
       "      <td>16.99</td>\n",
       "      <td>25.00</td>\n",
       "      <td>42.00</td>\n",
       "      <td>55.00</td>\n",
       "      <td>69.00</td>\n",
       "      <td>86.00</td>\n",
       "    </tr>\n",
       "    <tr>\n",
       "      <th>Income</th>\n",
       "      <td>32547.0</td>\n",
       "      <td>46.49</td>\n",
       "      <td>37.14</td>\n",
       "      <td>10.63</td>\n",
       "      <td>20.66</td>\n",
       "      <td>33.47</td>\n",
       "      <td>58.08</td>\n",
       "      <td>160.23</td>\n",
       "    </tr>\n",
       "    <tr>\n",
       "      <th>Limit</th>\n",
       "      <td>32547.0</td>\n",
       "      <td>4419.52</td>\n",
       "      <td>2202.44</td>\n",
       "      <td>1134.00</td>\n",
       "      <td>2727.00</td>\n",
       "      <td>4178.00</td>\n",
       "      <td>5636.00</td>\n",
       "      <td>11200.00</td>\n",
       "    </tr>\n",
       "    <tr>\n",
       "      <th>Rating</th>\n",
       "      <td>32547.0</td>\n",
       "      <td>326.72</td>\n",
       "      <td>136.15</td>\n",
       "      <td>119.00</td>\n",
       "      <td>224.00</td>\n",
       "      <td>316.00</td>\n",
       "      <td>405.00</td>\n",
       "      <td>805.00</td>\n",
       "    </tr>\n",
       "    <tr>\n",
       "      <th>Cards</th>\n",
       "      <td>32547.0</td>\n",
       "      <td>2.91</td>\n",
       "      <td>1.33</td>\n",
       "      <td>1.00</td>\n",
       "      <td>2.00</td>\n",
       "      <td>3.00</td>\n",
       "      <td>4.00</td>\n",
       "      <td>7.00</td>\n",
       "    </tr>\n",
       "    <tr>\n",
       "      <th>Balance</th>\n",
       "      <td>32547.0</td>\n",
       "      <td>447.89</td>\n",
       "      <td>454.21</td>\n",
       "      <td>0.00</td>\n",
       "      <td>5.00</td>\n",
       "      <td>331.00</td>\n",
       "      <td>749.00</td>\n",
       "      <td>1597.00</td>\n",
       "    </tr>\n",
       "  </tbody>\n",
       "</table>\n",
       "</div>"
      ],
      "text/plain": [
       "           count     mean      std      min      25%      50%      75%  \\\n",
       "Age      32547.0    55.48    16.99    25.00    42.00    55.00    69.00   \n",
       "Income   32547.0    46.49    37.14    10.63    20.66    33.47    58.08   \n",
       "Limit    32547.0  4419.52  2202.44  1134.00  2727.00  4178.00  5636.00   \n",
       "Rating   32547.0   326.72   136.15   119.00   224.00   316.00   405.00   \n",
       "Cards    32547.0     2.91     1.33     1.00     2.00     3.00     4.00   \n",
       "Balance  32547.0   447.89   454.21     0.00     5.00   331.00   749.00   \n",
       "\n",
       "              max  \n",
       "Age         86.00  \n",
       "Income     160.23  \n",
       "Limit    11200.00  \n",
       "Rating     805.00  \n",
       "Cards        7.00  \n",
       "Balance   1597.00  "
      ]
     },
     "execution_count": 51,
     "metadata": {},
     "output_type": "execute_result"
    }
   ],
   "source": [
    "round(data.describe().T,2)"
   ]
  },
  {
   "cell_type": "markdown",
   "id": "0c231756",
   "metadata": {},
   "source": [
    "From the statistics summary, we can infer the below findings :\n",
    "<br>1. Card holders age is between 25 - 86 years. Most of the card holders are mid-age to senior citizen.\n",
    "<br>2. Income-wise most card holders are in 20-60Lakhs cap. However, there is group earning higher income which must be target separately for more service and facilities.\n",
    "<br>3. Card limits mostly lies between 27 - 56Lakhs. There are card holder with 1 Crores Limit need to reviewed with their spending.\n",
    "<br>4. Most of card holders are not having good ratings ranging between 200 - 400. However, there are card holders with excellent rating to be consider for Limit update.\n",
    "<br>5. Number of Card holders has mostly 2-4 cards.\n",
    "<br>6. Most of the card holders have low balance."
   ]
  },
  {
   "cell_type": "markdown",
   "id": "04449d71",
   "metadata": {},
   "source": [
    "### Statistic summary of categorical data"
   ]
  },
  {
   "cell_type": "markdown",
   "id": "440f615c",
   "metadata": {},
   "source": [
    "Categorical variables are being visualized using a count plot. Categorical variables provide the pattern of factors influencing card limits."
   ]
  },
  {
   "cell_type": "code",
   "execution_count": 70,
   "id": "6f249e42",
   "metadata": {},
   "outputs": [
    {
     "data": {
      "image/png": "[encoded data removed]",
      "text/plain": [
       "<Figure size 1200x1000 with 4 Axes>"
      ]
     },
     "metadata": {},
     "output_type": "display_data"
    }
   ],
   "source": [
    "feature = ['Marital Status', 'Gender', 'Ethnicity', 'Education']\n",
    "\n",
    "fig=plt.subplots(figsize=(12,10))\n",
    "\n",
    "for p,q in enumerate(feature):\n",
    "    plt.subplot(2,2,p+1)\n",
    "    plt.subplots_adjust(hspace=0.5)\n",
    "    sns.countplot(x=q,data=data)\n",
    "    plt.xticks(rotation=45)"
   ]
  },
  {
   "cell_type": "code",
   "execution_count": 68,
   "id": "59ca1185",
   "metadata": {},
   "outputs": [
    {
     "data": {
      "text/html": [
       "<div>\n",
       "<style scoped>\n",
       "    .dataframe tbody tr th:only-of-type {\n",
       "        vertical-align: middle;\n",
       "    }\n",
       "\n",
       "    .dataframe tbody tr th {\n",
       "        vertical-align: top;\n",
       "    }\n",
       "\n",
       "    .dataframe thead th {\n",
       "        text-align: right;\n",
       "    }\n",
       "</style>\n",
       "<table border=\"1\" class=\"dataframe\">\n",
       "  <thead>\n",
       "    <tr style=\"text-align: right;\">\n",
       "      <th></th>\n",
       "      <th>count</th>\n",
       "      <th>unique</th>\n",
       "      <th>top</th>\n",
       "      <th>freq</th>\n",
       "    </tr>\n",
       "  </thead>\n",
       "  <tbody>\n",
       "    <tr>\n",
       "      <th>Name</th>\n",
       "      <td>32547</td>\n",
       "      <td>24942</td>\n",
       "      <td>Claude</td>\n",
       "      <td>9</td>\n",
       "    </tr>\n",
       "    <tr>\n",
       "      <th>CustomerID</th>\n",
       "      <td>32547</td>\n",
       "      <td>32547</td>\n",
       "      <td>0002-ORFBO</td>\n",
       "      <td>1</td>\n",
       "    </tr>\n",
       "    <tr>\n",
       "      <th>Marital Status</th>\n",
       "      <td>32547</td>\n",
       "      <td>5</td>\n",
       "      <td>Unmarried</td>\n",
       "      <td>16829</td>\n",
       "    </tr>\n",
       "    <tr>\n",
       "      <th>Gender</th>\n",
       "      <td>32547</td>\n",
       "      <td>2</td>\n",
       "      <td>Female</td>\n",
       "      <td>16562</td>\n",
       "    </tr>\n",
       "    <tr>\n",
       "      <th>Ethnicity</th>\n",
       "      <td>32547</td>\n",
       "      <td>3</td>\n",
       "      <td>Caucasian</td>\n",
       "      <td>16380</td>\n",
       "    </tr>\n",
       "    <tr>\n",
       "      <th>Education</th>\n",
       "      <td>32547</td>\n",
       "      <td>8</td>\n",
       "      <td>Master</td>\n",
       "      <td>8781</td>\n",
       "    </tr>\n",
       "  </tbody>\n",
       "</table>\n",
       "</div>"
      ],
      "text/plain": [
       "                count unique         top   freq\n",
       "Name            32547  24942      Claude      9\n",
       "CustomerID      32547  32547  0002-ORFBO      1\n",
       "Marital Status  32547      5   Unmarried  16829\n",
       "Gender          32547      2      Female  16562\n",
       "Ethnicity       32547      3   Caucasian  16380\n",
       "Education       32547      8      Master   8781"
      ]
     },
     "execution_count": 68,
     "metadata": {},
     "output_type": "execute_result"
    }
   ],
   "source": [
    "data.describe(include='object').T"
   ]
  },
  {
   "cell_type": "markdown",
   "id": "f119b9fb",
   "metadata": {},
   "source": [
    "From the statistics summary, we can infer the below findings :\n",
    "<br>1. Similar card holder names are existing where Claude appears 9 times.\n",
    "<br>2. Dataset data is unique as each card holder has unique Customer ID.\n",
    "<br>3. Most of the customer are Unmarried, Female and from Caucasian.\n",
    "<br>4. Most of the customer are highly educated holding Master degree."
   ]
  },
  {
   "cell_type": "markdown",
   "id": "63b49195",
   "metadata": {},
   "source": [
    "### The measures of central tendency for all the variables"
   ]
  },
  {
   "cell_type": "code",
   "execution_count": 55,
   "id": "5fa49e1f",
   "metadata": {},
   "outputs": [
    {
     "name": "stdout",
     "output_type": "stream",
     "text": [
      "******************************\n",
      "Mean of the below varibles:\n",
      " Age          55.48\n",
      "Income       46.49\n",
      "Limit      4419.52\n",
      "Rating      326.72\n",
      "Balance     447.89\n",
      "dtype: float64\n",
      "******************************\n",
      "Median of the below variables:\n",
      "Cards    3.0\n",
      "dtype: float64\n",
      "******************************\n",
      "Mode of below variables:\n",
      "                        0\n",
      "Marital Status  Unmarried\n",
      "Gender             Female\n",
      "Ethnicity       Caucasian\n",
      "Education          Master\n",
      "******************************\n"
     ]
    }
   ],
   "source": [
    "#Continuous variables\n",
    "continuous = ['Age','Income','Limit','Rating','Balance']\n",
    "\n",
    "#Discrete variables\n",
    "discrete = ['Cards']\n",
    "\n",
    "#Nominal Variables\n",
    "nominal = ['Marital Status', 'Gender', 'Ethnicity']\n",
    "\n",
    "#Ordinal Variables\n",
    "ordinal = ['Education']\n",
    "\n",
    "#The measures of central tendency for all the quantitative variables which are continuous\n",
    "meancv = round(data[['Age','Income','Limit','Rating','Balance']].mean(),2)\n",
    "mediancv = round(data[['Cards']].median(),2)\n",
    "modedv = round(data[['Marital Status', 'Gender', 'Ethnicity','Education']].mode().T,2)\n",
    "\n",
    "print('*'*30)\n",
    "print(f'Mean of the below varibles:\\n {meancv}')\n",
    "print('*'*30)\n",
    "print(f'Median of the below variables:\\n{mediancv}')\n",
    "print('*'*30)\n",
    "print(f'Mode of below variables:\\n{modedv}')\n",
    "print('*'*30)"
   ]
  },
  {
   "cell_type": "markdown",
   "id": "5b1c55ed",
   "metadata": {},
   "source": [
    "### Outliers in dataset"
   ]
  },
  {
   "cell_type": "code",
   "execution_count": 56,
   "id": "77c4c60b",
   "metadata": {},
   "outputs": [
    {
     "data": {
      "text/plain": [
       "Age          42.00\n",
       "Income       20.66\n",
       "Limit      2727.00\n",
       "Rating      224.00\n",
       "Balance       5.00\n",
       "Cards         2.00\n",
       "Name: 0.25, dtype: float64"
      ]
     },
     "execution_count": 56,
     "metadata": {},
     "output_type": "execute_result"
    }
   ],
   "source": [
    "# Quartile 1 of all the numerical variables\n",
    "\n",
    "Q1=round(data[['Age','Income','Limit','Rating','Balance','Cards']].quantile(.25),2)\n",
    "Q1"
   ]
  },
  {
   "cell_type": "code",
   "execution_count": 57,
   "id": "2069c1b7",
   "metadata": {},
   "outputs": [
    {
     "data": {
      "text/plain": [
       "Age          69.00\n",
       "Income       58.08\n",
       "Limit      5636.00\n",
       "Rating      405.00\n",
       "Balance     749.00\n",
       "Cards         4.00\n",
       "Name: 0.75, dtype: float64"
      ]
     },
     "execution_count": 57,
     "metadata": {},
     "output_type": "execute_result"
    }
   ],
   "source": [
    "# Quartile 3 of all the numerical variables\n",
    "\n",
    "Q3=round(data[['Age','Income','Limit','Rating','Balance','Cards']].quantile(.75),2)\n",
    "Q3"
   ]
  },
  {
   "cell_type": "code",
   "execution_count": 58,
   "id": "35981900",
   "metadata": {},
   "outputs": [
    {
     "data": {
      "text/plain": [
       "Age          27.00\n",
       "Income       37.42\n",
       "Limit      2909.00\n",
       "Rating      181.00\n",
       "Balance     744.00\n",
       "Cards         2.00\n",
       "dtype: float64"
      ]
     },
     "execution_count": 58,
     "metadata": {},
     "output_type": "execute_result"
    }
   ],
   "source": [
    "# Inter Quartile Range for all variables\n",
    "\n",
    "IQR = Q3 - Q1\n",
    "IQR"
   ]
  },
  {
   "cell_type": "code",
   "execution_count": 59,
   "id": "cfa96751",
   "metadata": {},
   "outputs": [
    {
     "data": {
      "text/plain": [
       "Age           1.50\n",
       "Income      -35.47\n",
       "Limit     -1636.50\n",
       "Rating      -47.50\n",
       "Balance   -1111.00\n",
       "Cards        -1.00\n",
       "dtype: float64"
      ]
     },
     "execution_count": 59,
     "metadata": {},
     "output_type": "execute_result"
    }
   ],
   "source": [
    "# Lower limit for all variables\n",
    "\n",
    "lower_limit=Q1-1.5*IQR\n",
    "lower_limit"
   ]
  },
  {
   "cell_type": "code",
   "execution_count": 60,
   "id": "827966f0",
   "metadata": {},
   "outputs": [
    {
     "data": {
      "text/plain": [
       "Age         109.50\n",
       "Income      114.21\n",
       "Limit      9999.50\n",
       "Rating      676.50\n",
       "Balance    1865.00\n",
       "Cards         7.00\n",
       "dtype: float64"
      ]
     },
     "execution_count": 60,
     "metadata": {},
     "output_type": "execute_result"
    }
   ],
   "source": [
    "# Upper limit for all variables\n",
    "\n",
    "upper_limit=Q3+1.5*IQR\n",
    "upper_limit"
   ]
  },
  {
   "cell_type": "code",
   "execution_count": 61,
   "id": "ab68c531",
   "metadata": {},
   "outputs": [
    {
     "data": {
      "text/plain": [
       "Age                -23.5\n",
       "Balance           -268.0\n",
       "Cards                0.0\n",
       "CustomerID           NaN\n",
       "Education            NaN\n",
       "Ethnicity            NaN\n",
       "Gender               NaN\n",
       "Income            46.021\n",
       "Limit             1200.5\n",
       "Marital Status       NaN\n",
       "Name                 NaN\n",
       "Rating             128.5\n",
       "dtype: object"
      ]
     },
     "execution_count": 61,
     "metadata": {},
     "output_type": "execute_result"
    }
   ],
   "source": [
    "# Outlier above upper limit for appropriate variables\n",
    "\n",
    "Upper_Outlier=data.max() - upper_limit\n",
    "Upper_Outlier"
   ]
  },
  {
   "cell_type": "code",
   "execution_count": 62,
   "id": "4921820a",
   "metadata": {},
   "outputs": [
    {
     "data": {
      "text/plain": [
       "Age         -23.500\n",
       "Income       46.021\n",
       "Limit      1200.500\n",
       "Rating      128.500\n",
       "Balance    -268.000\n",
       "Cards         0.000\n",
       "dtype: float64"
      ]
     },
     "execution_count": 62,
     "metadata": {},
     "output_type": "execute_result"
    }
   ],
   "source": [
    "# In this outlier result only positive value to be considered as it is above upper limit.\n",
    "\n",
    "Upper_Outlier_Result=data[['Age','Income','Limit','Rating','Balance','Cards']].max()-upper_limit\n",
    "Upper_Outlier_Result"
   ]
  },
  {
   "cell_type": "code",
   "execution_count": 63,
   "id": "92f31127",
   "metadata": {},
   "outputs": [
    {
     "data": {
      "text/plain": [
       "Index(['Age', 'Income', 'Limit', 'Rating', 'Cards', 'Balance'], dtype='object')"
      ]
     },
     "execution_count": 63,
     "metadata": {},
     "output_type": "execute_result"
    }
   ],
   "source": [
    "num_var = data.select_dtypes(include = \"number\").columns\n",
    "num_var"
   ]
  },
  {
   "cell_type": "code",
   "execution_count": 64,
   "id": "76b067e1",
   "metadata": {},
   "outputs": [
    {
     "data": {
      "image/png": "[encoded data removed]",
      "text/plain": [
       "<Figure size 2000x1000 with 6 Axes>"
      ]
     },
     "metadata": {},
     "output_type": "display_data"
    }
   ],
   "source": [
    "# Box plot is suitable for showcasing outlier. Here we have one variables for showcasing outlier in Employee Attrition Modelling dataset\n",
    "\n",
    "fig, ax = plt.subplots(nrows = 3, ncols = 2, figsize=(20,10))\n",
    "ax = ax.flatten()\n",
    "\n",
    "for i, col in enumerate(num_var):\n",
    "    sns.boxplot(data=data, x= col, ax=ax[i])\n",
    "    \n",
    "plt.tight_layout()"
   ]
  },
  {
   "cell_type": "markdown",
   "id": "a089cd3a",
   "metadata": {},
   "source": [
    "Number of Cards, Age and Balance have no outliers\n",
    "<br>Income, Limit and Rating have outliers"
   ]
  },
  {
   "cell_type": "code",
   "execution_count": null,
   "id": "a3ee6710",
   "metadata": {},
   "outputs": [],
   "source": [
    "#create a function to find outliers using IQR\n",
    "\n",
    "def find_outliers_IQR(df):\n",
    "    q1=df.quantile(0.25)\n",
    "    q3=df.quantile(0.75)\n",
    "    IQR=q3-q1\n",
    "    outliers = df[((df<(q1-1.5*IQR)) | (df>(q3+1.5*IQR)))]\n",
    "    return outliers"
   ]
  },
  {
   "cell_type": "markdown",
   "id": "f246beaf",
   "metadata": {},
   "source": [
    "### Number of outlier in Income"
   ]
  },
  {
   "cell_type": "code",
   "execution_count": 65,
   "id": "d4df7086",
   "metadata": {},
   "outputs": [
    {
     "name": "stdout",
     "output_type": "stream",
     "text": [
      "number of outliers: 3036\n",
      "max outlier value: 160.231\n",
      "min outlier value: 114.232\n"
     ]
    }
   ],
   "source": [
    "outliers = find_outliers_IQR(data['Income'])\n",
    "\n",
    "print(\"number of outliers: \"+ str(len(outliers)))\n",
    "\n",
    "print(\"max outlier value: \"+ str(outliers.max()))\n",
    "\n",
    "print(\"min outlier value: \"+ str(outliers.min()))"
   ]
  },
  {
   "cell_type": "markdown",
   "id": "3653d71b",
   "metadata": {},
   "source": [
    "Income outliers are almost 9% of total data and should be consider for EDA. There are individual with higher income."
   ]
  },
  {
   "cell_type": "markdown",
   "id": "7e9fe6fe",
   "metadata": {},
   "source": [
    "### Number of outlier in Limit"
   ]
  },
  {
   "cell_type": "code",
   "execution_count": 66,
   "id": "59e8e090",
   "metadata": {},
   "outputs": [
    {
     "name": "stdout",
     "output_type": "stream",
     "text": [
      "number of outliers: 895\n",
      "max outlier value: 11200\n",
      "min outlier value: 10063\n"
     ]
    }
   ],
   "source": [
    "outliers = find_outliers_IQR(data['Limit'])\n",
    "print(\"number of outliers: \"+ str(len(outliers)))\n",
    "\n",
    "print(\"max outlier value: \"+ str(outliers.max()))\n",
    "\n",
    "print(\"min outlier value: \"+ str(outliers.min()))"
   ]
  },
  {
   "cell_type": "markdown",
   "id": "b035adc5",
   "metadata": {},
   "source": [
    "Limit outliers are 2.7% of dataset and not too much far from upper limit, should be consider for EDA."
   ]
  },
  {
   "cell_type": "markdown",
   "id": "4e938e79",
   "metadata": {},
   "source": [
    "### Number of outlier in Rating"
   ]
  },
  {
   "cell_type": "code",
   "execution_count": 67,
   "id": "4e6e2f26",
   "metadata": {},
   "outputs": [
    {
     "name": "stdout",
     "output_type": "stream",
     "text": [
      "number of outliers: 571\n",
      "max outlier value: 805\n",
      "min outlier value: 677\n"
     ]
    }
   ],
   "source": [
    "outliers = find_outliers_IQR(data['Rating'])\n",
    "print(\"number of outliers: \"+ str(len(outliers)))\n",
    "\n",
    "print(\"max outlier value: \"+ str(outliers.max()))\n",
    "\n",
    "print(\"min outlier value: \"+ str(outliers.min()))"
   ]
  },
  {
   "cell_type": "markdown",
   "id": "51dacb37",
   "metadata": {},
   "source": [
    "Rating outliers are 1.8% of dataset and are above upper limit. Higher rating is not unusual and should be consider for EDA.\n",
    "<br>\n",
    "<br>Hence, the dataset is clean and fine for analysis."
   ]
  },
  {
   "cell_type": "code",
   "execution_count": null,
   "id": "75bd5aeb",
   "metadata": {},
   "outputs": [],
   "source": []
  }
 ],
 "metadata": {
  "kernelspec": {
   "display_name": "Python 3 (ipykernel)",
   "language": "python",
   "name": "python3"
  },
  "language_info": {
   "codemirror_mode": {
    "name": "ipython",
    "version": 3
   },
   "file_extension": ".py",
   "mimetype": "text/x-python",
   "name": "python",
   "nbconvert_exporter": "python",
   "pygments_lexer": "ipython3",
   "version": "3.9.16"
  }
 },
 "nbformat": 4,
 "nbformat_minor": 5
}
